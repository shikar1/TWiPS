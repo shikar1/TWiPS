{
  "nbformat": 4,
  "nbformat_minor": 0,
  "metadata": {
    "colab": {
      "provenance": []
    },
    "kernelspec": {
      "name": "python3",
      "display_name": "Python 3"
    },
    "language_info": {
      "name": "python"
    }
  },
  "cells": [
    {
      "cell_type": "code",
      "source": [
        "import math\n",
        "import numpy as np"
      ],
      "metadata": {
        "id": "EAA8Ag-FS-qT"
      },
      "execution_count": 1,
      "outputs": []
    },
    {
      "cell_type": "markdown",
      "source": [
        "# Задача №2"
      ],
      "metadata": {
        "id": "w_NP47IWShWB"
      }
    },
    {
      "cell_type": "markdown",
      "source": [
        "Аналитические функции"
      ],
      "metadata": {
        "id": "diilSAe1SrDC"
      }
    },
    {
      "cell_type": "code",
      "execution_count": 2,
      "metadata": {
        "id": "FiL7aMjOSfMq"
      },
      "outputs": [],
      "source": [
        "def triangle_type(angles):\n",
        "    # сортируем углы\n",
        "    angles = np.sort(angles)\n",
        "    # вычисляем длины дуг\n",
        "    arcs = np.diff(np.append(angles, angles[0] + 2*np.pi))\n",
        "    max_arc = arcs.max()\n",
        "    # если макс дуга >= pi -> тупой\n",
        "    if np.isclose(max_arc, np.pi):\n",
        "        return \"right\"\n",
        "    elif max_arc > np.pi:\n",
        "        return \"obtuse\"\n",
        "    else:\n",
        "        return \"acute\"\n",
        "\n",
        "def mc_triangle(N=100000, rng=None):\n",
        "    rng = np.random.default_rng() if rng is None else rng\n",
        "    counts = {\"acute\":0, \"obtuse\":0, \"right\":0}\n",
        "    for _ in range(N):\n",
        "        angles = rng.uniform(0, 2*np.pi, 3)\n",
        "        t = triangle_type(angles)\n",
        "        counts[t] += 1\n",
        "    # нормировка\n",
        "    for k in counts:\n",
        "        counts[k] /= N\n",
        "    return counts"
      ]
    },
    {
      "cell_type": "markdown",
      "source": [
        "Вывод"
      ],
      "metadata": {
        "id": "Wvs0ARVSS38k"
      }
    },
    {
      "cell_type": "code",
      "source": [
        "res = mc_triangle(200000)\n",
        "print(\"Оценки Монте-Карло:\", res)"
      ],
      "metadata": {
        "colab": {
          "base_uri": "https://localhost:8080/"
        },
        "id": "ecavzKdFS3Na",
        "outputId": "22a91fff-82c4-41dd-e35e-b255da999a2d"
      },
      "execution_count": 3,
      "outputs": [
        {
          "output_type": "stream",
          "name": "stdout",
          "text": [
            "Оценки Монте-Карло: {'acute': 0.24848, 'obtuse': 0.7515, 'right': 2e-05}\n"
          ]
        }
      ]
    }
  ]
}