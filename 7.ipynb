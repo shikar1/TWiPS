{
  "nbformat": 4,
  "nbformat_minor": 0,
  "metadata": {
    "colab": {
      "provenance": []
    },
    "kernelspec": {
      "name": "python3",
      "display_name": "Python 3"
    },
    "language_info": {
      "name": "python"
    }
  },
  "cells": [
    {
      "cell_type": "code",
      "source": [
        "import math\n",
        "import numpy as np\n",
        "import pandas as pd\n",
        "from scipy.stats import rv_continuous, norm, multivariate_normal, kstest, skew, kurtosis"
      ],
      "metadata": {
        "id": "EAA8Ag-FS-qT"
      },
      "execution_count": 1,
      "outputs": []
    },
    {
      "cell_type": "markdown",
      "source": [
        "# Задача №7"
      ],
      "metadata": {
        "id": "w_NP47IWShWB"
      }
    },
    {
      "cell_type": "code",
      "execution_count": 2,
      "metadata": {
        "id": "FiL7aMjOSfMq"
      },
      "outputs": [],
      "source": [
        "X = np.array([1, 2, 9, 15])\n",
        "Y = np.array([-8, -5, 0, 2, 6])\n",
        "P = np.array([\n",
        "    [0.04, np.nan, 0.06, 0.04, 0.01],\n",
        "    [0.10, 0.01, 0.08, 0.05, 0.02],\n",
        "    [0.01, 0.02, 0.11, 0.08, 0.04],\n",
        "    [0.11, 0.07, 0.03, 0.09, 0.01]\n",
        "])\n",
        "\n",
        "# пропущенная вероятность\n",
        "P[np.isnan(P)] = 1 - np.nansum(P)\n",
        "assert np.isclose(P.sum(), 1), \"Сумма вероятностей ≠ 1\"\n",
        "\n",
        "# маргинали\n",
        "PX = P.sum(axis=1)\n",
        "PY = P.sum(axis=0)\n",
        "\n",
        "# матем. ожидания\n",
        "EX = np.sum(X * PX)\n",
        "EY = np.sum(Y * PY)\n",
        "\n",
        "# дисперсии и σ\n",
        "VarX = np.sum((X**2) * PX) - EX**2\n",
        "VarY = np.sum((Y**2) * PY) - EY**2\n",
        "SX, SY = np.sqrt(VarX), np.sqrt(VarY)\n",
        "\n",
        "# E[XY], ковариация, корреляция\n",
        "EXY = np.sum([[X[i]*Y[j]*P[i,j] for j in range(len(Y))] for i in range(len(X))])\n",
        "CovXY = EXY - EX*EY\n",
        "CorrXY = CovXY / (SX * SY)\n",
        "\n",
        "# распределение U = (X*Y)%5\n",
        "U_vals, PU = np.unique([(x*y)%5 for x in X for y in Y], return_counts=True)\n",
        "P_U = {u: P.flatten()[[(x*y)%5 == u for x in X for y in Y]].sum() for u in U_vals}\n",
        "\n",
        "# мода и медиана\n",
        "mode_X = X[np.argmax(PX)]\n",
        "mode_Y = Y[np.argmax(PY)]\n",
        "med_X = X[np.cumsum(PX) >= 0.5][0]\n",
        "med_Y = Y[np.cumsum(PY) >= 0.5][0]\n",
        "\n",
        "# асимметрия и эксцесс\n",
        "skew_X = skew(np.repeat(X, (PX*1000).astype(int)))\n",
        "skew_Y = skew(np.repeat(Y, (PY*1000).astype(int)))\n",
        "kurt_X = kurtosis(np.repeat(X, (PX*1000).astype(int)))\n",
        "kurt_Y = kurtosis(np.repeat(Y, (PY*1000).astype(int)))\n",
        "\n",
        "# проверка независимости\n",
        "independent = np.allclose(P, np.outer(PX, PY), atol=1e-2)"
      ]
    },
    {
      "cell_type": "markdown",
      "source": [
        "Выводы\n"
      ],
      "metadata": {
        "id": "Wvs0ARVSS38k"
      }
    },
    {
      "cell_type": "code",
      "source": [
        "print(f\"Пропущенная вероятность: {1 - np.nansum(P):.4f}\")\n",
        "print(\"\\nМаргинальные распределения PX и PY:\")\n",
        "print(pd.DataFrame({'X': X, 'P(X)': PX}))\n",
        "print(\"\\n\", pd.DataFrame({'Y': Y, 'P(Y)': PY}))\n",
        "print(\"\\nРаспределение U = (X*Y)%5:\")\n",
        "print(P_U)\n",
        "print(\"\\nE[X]={:.4f}, Var[X]={:.4f}, σX={:.4f}\".format(EX, VarX, SX))\n",
        "print(\"E[Y]={:.4f}, Var[Y]={:.4f}, σY={:.4f}\".format(EY, VarY, SY))\n",
        "print(\"\\nМода X={}, медиана X={}, skew={:.4f}, kurt={:.4f}\".format(mode_X, med_X, skew_X, kurt_X))\n",
        "print(\"Мода Y={}, медиана Y={}, skew={:.4f}, kurt={:.4f}\".format(mode_Y, med_Y, skew_Y, kurt_Y))\n",
        "print(\"\\nE[XY]={:.4f}, Cov={:.4f}, Corr={:.4f}\".format(EXY, CovXY, CorrXY))\n",
        "print(\"\\nНезависимы?\" , \"Да\" if independent else \"Нет\")"
      ],
      "metadata": {
        "colab": {
          "base_uri": "https://localhost:8080/"
        },
        "id": "ecavzKdFS3Na",
        "outputId": "468b54d6-c5c3-4510-8330-63e3f43dc055"
      },
      "execution_count": 3,
      "outputs": [
        {
          "output_type": "stream",
          "name": "stdout",
          "text": [
            "Пропущенная вероятность: 0.0000\n",
            "\n",
            "Маргинальные распределения PX и PY:\n",
            "    X  P(X)\n",
            "0   1  0.17\n",
            "1   2  0.26\n",
            "2   9  0.26\n",
            "3  15  0.31\n",
            "\n",
            "    Y  P(Y)\n",
            "0 -8  0.26\n",
            "1 -5  0.12\n",
            "2  0  0.28\n",
            "3  2  0.26\n",
            "4  6  0.08\n",
            "\n",
            "Распределение U = (X*Y)%5:\n",
            "{np.int64(0): np.float64(0.6099999999999999), np.int64(1): np.float64(0.01), np.int64(2): np.float64(0.1), np.int64(3): np.float64(0.09), np.int64(4): np.float64(0.19000000000000003)}\n",
            "\n",
            "E[X]=7.6800, Var[X]=33.0376, σX=5.7478\n",
            "E[Y]=-1.6800, Var[Y]=20.7376, σY=4.5539\n",
            "\n",
            "Мода X=15, медиана X=9, skew=0.1240, kurt=-1.6258\n",
            "Мода Y=0, медиана Y=0, skew=-0.2084, kurt=-1.2379\n",
            "\n",
            "E[XY]=-14.4100, Cov=-1.5076, Corr=-0.0576\n",
            "\n",
            "Независимы? Нет\n"
          ]
        }
      ]
    }
  ]
}