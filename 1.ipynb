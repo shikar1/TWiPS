{
  "nbformat": 4,
  "nbformat_minor": 0,
  "metadata": {
    "colab": {
      "provenance": []
    },
    "kernelspec": {
      "name": "python3",
      "display_name": "Python 3"
    },
    "language_info": {
      "name": "python"
    }
  },
  "cells": [
    {
      "cell_type": "code",
      "source": [
        "import math\n",
        "import numpy as np"
      ],
      "metadata": {
        "id": "EAA8Ag-FS-qT"
      },
      "execution_count": 6,
      "outputs": []
    },
    {
      "cell_type": "markdown",
      "source": [
        "# Задача №1"
      ],
      "metadata": {
        "id": "w_NP47IWShWB"
      }
    },
    {
      "cell_type": "markdown",
      "source": [
        "Аналитические функции"
      ],
      "metadata": {
        "id": "diilSAe1SrDC"
      }
    },
    {
      "cell_type": "code",
      "execution_count": 7,
      "metadata": {
        "id": "FiL7aMjOSfMq"
      },
      "outputs": [],
      "source": [
        "def derangements(n):\n",
        "    \"\"\"Количество дерранжировок (subfactorial !n).\"\"\"\n",
        "    return round(math.factorial(n) * sum((-1)**k / math.factorial(k) for k in range(n+1)))\n",
        "\n",
        "def prob_no_own_both(n):\n",
        "    \"\"\"Вероятность, что никто не возьмет свой левый и свой правый ботинок.\"\"\"\n",
        "    Dn = derangements(n)\n",
        "    return (Dn / math.factorial(n))**2"
      ]
    },
    {
      "cell_type": "markdown",
      "source": [
        "Монте-Карло"
      ],
      "metadata": {
        "id": "BMEY_tXBSx63"
      }
    },
    {
      "cell_type": "code",
      "source": [
        "def mc_shoes(n, N=10000, rng=None):\n",
        "    rng = np.random.default_rng() if rng is None else rng\n",
        "    success = 0\n",
        "    for _ in range(N):\n",
        "        left = rng.permutation(n)\n",
        "        right = rng.permutation(n)\n",
        "        if np.all(left != np.arange(n)) and np.all(right != np.arange(n)):\n",
        "            success += 1\n",
        "    p_hat = success / N\n",
        "    se = math.sqrt(p_hat*(1-p_hat)/N)\n",
        "    return p_hat, se"
      ],
      "metadata": {
        "id": "GHlxb44WSze4"
      },
      "execution_count": 8,
      "outputs": []
    },
    {
      "cell_type": "markdown",
      "source": [
        "Вывод"
      ],
      "metadata": {
        "id": "Wvs0ARVSS38k"
      }
    },
    {
      "cell_type": "code",
      "source": [
        "for n in [3, 5, 10]:\n",
        "    print(f\"n={n}: аналитика =\", prob_no_own_both(n))\n",
        "    ph, se = mc_shoes(n, N=50000)\n",
        "    print(f\"   Монте-Карло = {ph:.5f} ± {1.96*se:.5f}\")"
      ],
      "metadata": {
        "colab": {
          "base_uri": "https://localhost:8080/"
        },
        "id": "ecavzKdFS3Na",
        "outputId": "9886363d-21ef-4bd5-8bcd-8c244123c189"
      },
      "execution_count": 9,
      "outputs": [
        {
          "output_type": "stream",
          "name": "stdout",
          "text": [
            "n=3: аналитика = 0.1111111111111111\n",
            "   Монте-Карло = 0.11202 ± 0.00276\n",
            "n=5: аналитика = 0.13444444444444442\n",
            "   Монте-Карло = 0.13588 ± 0.00300\n",
            "n=10: аналитика = 0.13533530024314414\n",
            "   Монте-Карло = 0.13500 ± 0.00300\n"
          ]
        }
      ]
    }
  ]
}